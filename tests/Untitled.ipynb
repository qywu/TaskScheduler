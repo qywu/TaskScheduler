{
 "cells": [
  {
   "cell_type": "code",
   "execution_count": 11,
   "id": "f51af2bb-4966-4af7-b832-accb255d84f3",
   "metadata": {},
   "outputs": [],
   "source": [
    "import GPUtil"
   ]
  },
  {
   "cell_type": "code",
   "execution_count": 112,
   "id": "2721a581-dfc1-4153-b902-3ec8f1b26b55",
   "metadata": {},
   "outputs": [
    {
     "data": {
      "text/plain": [
       "[0]"
      ]
     },
     "execution_count": 112,
     "metadata": {},
     "output_type": "execute_result"
    }
   ],
   "source": [
    "GPUtil.getAvailable(\n",
    "                order=\"random\", limit=8, maxLoad=1.0, maxMemory=1.0, includeNan=False, excludeID=[], excludeUUID=[]\n",
    "            )"
   ]
  },
  {
   "cell_type": "code",
   "execution_count": 113,
   "id": "317a2063-80cc-4b21-af84-8e11f2d55b7e",
   "metadata": {},
   "outputs": [
    {
     "data": {
      "text/plain": [
       "22248.0"
      ]
     },
     "execution_count": 113,
     "metadata": {},
     "output_type": "execute_result"
    }
   ],
   "source": [
    "GPUs[0].memoryFree"
   ]
  },
  {
   "cell_type": "code",
   "execution_count": 12,
   "id": "4fda5a1f-1a27-4a5f-9b98-97950bf6f391",
   "metadata": {},
   "outputs": [],
   "source": [
    "GPUs = GPUtil.getGPUs()\n"
   ]
  },
  {
   "cell_type": "code",
   "execution_count": 116,
   "id": "c4044fa8-121d-48e7-bce3-41544ca932cb",
   "metadata": {},
   "outputs": [
    {
     "data": {
      "text/plain": [
       "0"
      ]
     },
     "execution_count": 116,
     "metadata": {},
     "output_type": "execute_result"
    }
   ],
   "source": [
    "GPUs[0].id"
   ]
  },
  {
   "cell_type": "code",
   "execution_count": 20,
   "id": "76ee8c75-0ecd-44b1-a5dc-ee4d21a0a55b",
   "metadata": {},
   "outputs": [
    {
     "data": {
      "text/plain": [
       "'24576MB'"
      ]
     },
     "execution_count": 20,
     "metadata": {},
     "output_type": "execute_result"
    }
   ],
   "source": [
    "str(int(GPUs[0].memoryUsed))+'MB'"
   ]
  },
  {
   "cell_type": "code",
   "execution_count": 100,
   "id": "f8ac2d10-4e7a-466e-9aca-410a03e1339c",
   "metadata": {},
   "outputs": [
    {
     "data": {
      "text/plain": [
       "13.0"
      ]
     },
     "execution_count": 100,
     "metadata": {},
     "output_type": "execute_result"
    }
   ],
   "source": [
    "GPUs = GPUtil.getGPUs()\n",
    "int(GPUs[0].load*100)"
   ]
  },
  {
   "cell_type": "code",
   "execution_count": 102,
   "id": "1715e629-68a2-4d60-a662-1499d774a658",
   "metadata": {},
   "outputs": [
    {
     "name": "stdout",
     "output_type": "stream",
     "text": [
      "| ID | GPU | MEM |\n",
      "------------------\n",
      "|  0 | 12% |  8% |\n"
     ]
    }
   ],
   "source": [
    "GPUtil.showUtilization()"
   ]
  },
  {
   "cell_type": "code",
   "execution_count": 4,
   "id": "0940089f-cbc6-423d-aa6f-40b438b9e443",
   "metadata": {},
   "outputs": [],
   "source": [
    "deviceIDs = GPUtil.getAvailable(order='random',\n",
    "                                            limit=8,\n",
    "                                            maxLoad=0.2,\n",
    "                                            maxMemory=0.5,\n",
    "                                            includeNan=False,\n",
    "                                            excludeID=[],\n",
    "                                            excludeUUID=[])"
   ]
  },
  {
   "cell_type": "code",
   "execution_count": 10,
   "id": "65aa4a23-8bc6-480f-9e38-4e61e767b586",
   "metadata": {},
   "outputs": [
    {
     "data": {
      "text/plain": [
       "[0]"
      ]
     },
     "execution_count": 10,
     "metadata": {},
     "output_type": "execute_result"
    }
   ],
   "source": [
    "deviceIDs"
   ]
  },
  {
   "cell_type": "code",
   "execution_count": null,
   "id": "5638e069-62a5-47fc-8487-cb48fa26f1fd",
   "metadata": {},
   "outputs": [],
   "source": []
  }
 ],
 "metadata": {
  "kernelspec": {
   "display_name": "Python 3 (ipykernel)",
   "language": "python",
   "name": "python3"
  },
  "language_info": {
   "codemirror_mode": {
    "name": "ipython",
    "version": 3
   },
   "file_extension": ".py",
   "mimetype": "text/x-python",
   "name": "python",
   "nbconvert_exporter": "python",
   "pygments_lexer": "ipython3",
   "version": "3.9.7"
  }
 },
 "nbformat": 4,
 "nbformat_minor": 5
}
